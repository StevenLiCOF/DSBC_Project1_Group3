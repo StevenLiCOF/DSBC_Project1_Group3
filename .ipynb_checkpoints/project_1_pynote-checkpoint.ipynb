{
 "cells": [
  {
   "cell_type": "code",
   "execution_count": 1,
   "metadata": {
    "collapsed": true
   },
   "outputs": [],
   "source": [
    "import os\n",
    "import json\n",
    "from pprint import pprint"
   ]
  },
  {
   "cell_type": "code",
   "execution_count": 2,
   "metadata": {
    "collapsed": true
   },
   "outputs": [],
   "source": [
    "MOJO_DIR = os.path.join('data','boxofficemojo') \n",
    "META_DIR = os.path.join('data','metacritic') "
   ]
  },
  {
   "cell_type": "code",
   "execution_count": 3,
   "metadata": {
    "collapsed": true
   },
   "outputs": [],
   "source": [
    "def get_movies(directory):\n",
    "    '''Returns a list of dictionaries containing information in the\n",
    "    JSON files of the provided directory, and prints the number\n",
    "    of movies read'''\n",
    "    file_contents = os.listdir(directory)\n",
    "    movie_list=[]\n",
    "    for filename in file_contents:\n",
    "        filepath = os.path.join(directory, filename)\n",
    "        with open(filepath, 'r') as movie_file:\n",
    "            movie_data = json.load(movie_file)\n",
    "        if type(movie_data) == dict:\n",
    "            movie_list.append(movie_data)\n",
    "    print \"Parsed %i movies from %i files\" % (len(movie_list),\n",
    "                                              len(file_contents))\n",
    "    return movie_list"
   ]
  },
  {
   "cell_type": "code",
   "execution_count": 4,
   "metadata": {
    "collapsed": false
   },
   "outputs": [
    {
     "name": "stdout",
     "output_type": "stream",
     "text": [
      "Parsed 3728 movies from 3728 files\n",
      "Parsed 4765 movies from 4767 files\n"
     ]
    }
   ],
   "source": [
    "mojomovies=get_movies(MOJO_DIR)\n",
    "metacriticmovies=get_movies(META_DIR)"
   ]
  },
  {
   "cell_type": "code",
   "execution_count": 5,
   "metadata": {
    "collapsed": true
   },
   "outputs": [],
   "source": [
    "from datetime import datetime"
   ]
  },
  {
   "cell_type": "code",
   "execution_count": 6,
   "metadata": {
    "collapsed": true
   },
   "outputs": [],
   "source": [
    "for movie in mojomovies:\n",
    "    if movie['release_date_limited']:\n",
    "        movie['release_date_limited']=datetime.strptime(movie['release_date_limited'],'%Y-%m-%d').date()\n",
    "    if movie['release_date_wide']:\n",
    "        movie['release_date_wide']=datetime.strptime(movie['release_date_wide'],'%Y-%m-%d').date()"
   ]
  },
  {
   "cell_type": "code",
   "execution_count": 7,
   "metadata": {
    "collapsed": true
   },
   "outputs": [],
   "source": [
    "import numpy as np\n",
    "import pandas as pd"
   ]
  },
  {
   "cell_type": "code",
   "execution_count": 8,
   "metadata": {
    "collapsed": true
   },
   "outputs": [],
   "source": [
    "mojo_df = pd.DataFrame(mojomovies)\n",
    "meta_df = pd.DataFrame(metacriticmovies)\n",
    "merged_df = pd.merge(meta_df, mojo_df, how='outer', on='title')\n",
    "#print mojo_df.shape\n",
    "#print meta_df.shape\n",
    "#print merged_df.shape\n",
    "#print mojo_df.columns.values\n",
    "#print meta_df.columns.values\n",
    "#print merged_df.columns.values"
   ]
  },
  {
   "cell_type": "code",
   "execution_count": 10,
   "metadata": {
    "collapsed": false
   },
   "outputs": [],
   "source": [
    "merged_df=merged_df.sort('title')\n",
    "#merged_years=merged_df[['year_x','year_y']]\n",
    "#merged_directors=merged_df[['director_x','director_y']]\n",
    "#both_directors=merged_directors.dropna(axis=0)\n",
    "#notequal_directors=both_directors[both_directors.director_x!=both_directors.director_y]\n",
    "#both_years=merged_years.dropna(axis=0)\n",
    "#notequal_years=both_years[both_years.year_x!=both_years.year_x]"
   ]
  },
  {
   "cell_type": "code",
   "execution_count": 12,
   "metadata": {
    "collapsed": false
   },
   "outputs": [],
   "source": [
    "merged_df['year'] = merged_df['year_x'].fillna(merged_df['year_y'])"
   ]
  },
  {
   "cell_type": "code",
   "execution_count": 13,
   "metadata": {
    "collapsed": true
   },
   "outputs": [],
   "source": [
    "merged_df['director'] = merged_df['director_x'].fillna(merged_df['director_y'])"
   ]
  },
  {
   "cell_type": "code",
   "execution_count": 14,
   "metadata": {
    "collapsed": true
   },
   "outputs": [],
   "source": [
    "merged_df=merged_df.dropna(subset=['year'])"
   ]
  },
  {
   "cell_type": "code",
   "execution_count": 17,
   "metadata": {
    "collapsed": false
   },
   "outputs": [],
   "source": [
    "modelinputs = merged_df[['title',\n",
    "                         'year',\n",
    "                         'genre',\n",
    "                         'release_date',\n",
    "                         'runtime_minutes',\n",
    "                         'studio',\n",
    "                         'production_budget',\n",
    "                         'release_date_limited',\n",
    "                         'director',\n",
    "                         'worldwide_gross']].dropna(subset=['worldwide_gross'])"
   ]
  },
  {
   "cell_type": "code",
   "execution_count": 18,
   "metadata": {
    "collapsed": true
   },
   "outputs": [],
   "source": [
    "merged_df.columns.values\n",
    "mojo_df.columns.values\n",
    "meta_df.columns.values\n",
    "mojo_budget=mojo_df.dropna(subset=['production_budget'])"
   ]
  },
  {
   "cell_type": "code",
   "execution_count": null,
   "metadata": {
    "collapsed": true
   },
   "outputs": [],
   "source": []
  }
 ],
 "metadata": {
  "kernelspec": {
   "display_name": "Python 2",
   "language": "python",
   "name": "python2"
  },
  "language_info": {
   "codemirror_mode": {
    "name": "ipython",
    "version": 2
   },
   "file_extension": ".py",
   "mimetype": "text/x-python",
   "name": "python",
   "nbconvert_exporter": "python",
   "pygments_lexer": "ipython2",
   "version": "2.7.10"
  }
 },
 "nbformat": 4,
 "nbformat_minor": 0
}
